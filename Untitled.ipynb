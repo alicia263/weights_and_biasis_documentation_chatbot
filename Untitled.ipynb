{
 "cells": [
  {
   "cell_type": "code",
   "execution_count": 1,
   "id": "375f0d1b-67ad-44b1-bfb1-d75b07b6083c",
   "metadata": {},
   "outputs": [
    {
     "name": "stdout",
     "output_type": "stream",
     "text": [
      "Cloning into 'docodile'...\n",
      "remote: Repository not found.\n",
      "fatal: repository 'https://github.com/wandb/docodile.git/' not found\n"
     ]
    }
   ],
   "source": [
    "!git clone https://github.com/wandb/docodile.git"
   ]
  },
  {
   "cell_type": "code",
   "execution_count": 2,
   "id": "d35b4b1f-f701-47f5-930c-0ff2227ab15c",
   "metadata": {},
   "outputs": [
    {
     "name": "stderr",
     "output_type": "stream",
     "text": [
      "/workspaces/weights_and_biasis_documentation_chatbot/venv/lib/python3.12/site-packages/tqdm/auto.py:21: TqdmWarning: IProgress not found. Please update jupyter and ipywidgets. See https://ipywidgets.readthedocs.io/en/stable/user_install.html\n",
      "  from .autonotebook import tqdm as notebook_tqdm\n"
     ]
    }
   ],
   "source": [
    "import re\n",
    "import os\n",
    "import random\n",
    "import time\n",
    "from tqdm.auto import tqdm\n",
    "\n",
    "import openai\n",
    "\n",
    "import wandb\n",
    "from wandb.integration.openai import autolog"
   ]
  },
  {
   "cell_type": "code",
   "execution_count": 3,
   "id": "dab96092-1d9f-43e1-97d3-bc11eaba0263",
   "metadata": {},
   "outputs": [],
   "source": [
    "PROJECT = \"wandbot_synth\" \n",
    "ENTITY = \"wandbot\""
   ]
  },
  {
   "cell_type": "code",
   "execution_count": 7,
   "id": "bb50e98b-eea9-46cc-9edf-63a30588dd88",
   "metadata": {},
   "outputs": [
    {
     "name": "stdout",
     "output_type": "stream",
     "text": [
      "Groq API key configured\n"
     ]
    }
   ],
   "source": [
    "from groq import Groq\n",
    "import os\n",
    "from getpass import getpass\n",
    "\n",
    "def get_groq_key():\n",
    "    if os.getenv(\"GROQ_API_KEY\") is None:\n",
    "        if any(['VSCODE' in x for x in os.environ.keys()]):\n",
    "            print('Please enter password in the VS Code prompt at the top of your VS Code window!')\n",
    "        \n",
    "        os.environ[\"GROQ_API_KEY\"] = getpass(\"Paste your Groq API key from: https://console.groq.com/keys\\n\")\n",
    "    \n",
    "    client = Groq(api_key=os.getenv(\"GROQ_API_KEY\"))\n",
    "    \n",
    "    assert os.getenv(\"GROQ_API_KEY\", \"\").startswith(\"gsk_\"), \"This doesn't look like a valid Groq API key\"\n",
    "    \n",
    "    print(\"Groq API key configured\")\n",
    "    \n",
    "    return client\n",
    "\n",
    "# Initialize the Groq client\n",
    "groq_client = get_groq_key()\n",
    "\n",
    "# Example of how to use the client with Llama 3 70b\n",
    "def generate_response(prompt):\n",
    "    chat_completion = groq_client.chat.completions.create(\n",
    "        messages=[\n",
    "            {\n",
    "                \"role\": \"user\",\n",
    "                \"content\": prompt\n",
    "            }\n",
    "        ],\n",
    "        model=\"llama3-70b-8192\"\n",
    "    )\n",
    "    return chat_completion.choices[0].message.content\n",
    "\n",
    "# You can now use generate_response() to interact with the Llama 3 model"
   ]
  },
  {
   "cell_type": "code",
   "execution_count": 8,
   "id": "74ba32a6-8e3f-40d7-aabd-6f312fa7afe0",
   "metadata": {},
   "outputs": [],
   "source": [
    "# This function is used to find all the markdown files in a directory and return it's content and path\n",
    "\n",
    "def find_md_files(directory):\n",
    "    md_files = []\n",
    "    for root, dirs, files in os.walk(directory):\n",
    "        for file in files:\n",
    "            if file.endswith(\".md\"):\n",
    "                file_path = os.path.join(root, file)\n",
    "                with open(file_path, 'r', encoding='utf-8') as md_file:\n",
    "                    content = md_file.read()\n",
    "                md_files.append((file_path, content))\n",
    "    return md_files"
   ]
  },
  {
   "cell_type": "code",
   "execution_count": 9,
   "id": "c8dc281e-a92b-488d-9e2b-9eceb826eacb",
   "metadata": {},
   "outputs": [
    {
     "data": {
      "text/plain": [
       "0"
      ]
     },
     "execution_count": 9,
     "metadata": {},
     "output_type": "execute_result"
    }
   ],
   "source": [
    "documents = find_md_files('../docodile/docs/')\n",
    "\n",
    "random.shuffle(documents)\n",
    "len(documents)"
   ]
  },
  {
   "cell_type": "code",
   "execution_count": null,
   "id": "63f598a8-eca7-443c-8820-cde802a5af35",
   "metadata": {},
   "outputs": [],
   "source": []
  }
 ],
 "metadata": {
  "kernelspec": {
   "display_name": "Python 3 (ipykernel)",
   "language": "python",
   "name": "python3"
  },
  "language_info": {
   "codemirror_mode": {
    "name": "ipython",
    "version": 3
   },
   "file_extension": ".py",
   "mimetype": "text/x-python",
   "name": "python",
   "nbconvert_exporter": "python",
   "pygments_lexer": "ipython3",
   "version": "3.12.1"
  }
 },
 "nbformat": 4,
 "nbformat_minor": 5
}
